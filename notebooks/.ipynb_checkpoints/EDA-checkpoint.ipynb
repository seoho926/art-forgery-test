{
 "cells": [
  {
   "cell_type": "code",
   "execution_count": 1,
   "metadata": {},
   "outputs": [
    {
     "name": "stderr",
     "output_type": "stream",
     "text": [
      "/Users/flatironschool/anaconda3/lib/python3.7/site-packages/sklearn/utils/deprecation.py:144: FutureWarning: The sklearn.metrics.classification module is  deprecated in version 0.22 and will be removed in version 0.24. The corresponding classes / functions should instead be imported from sklearn.metrics. Anything that cannot be imported from sklearn.metrics is now part of the private API.\n",
      "  warnings.warn(message, FutureWarning)\n"
     ]
    }
   ],
   "source": [
    "import pandas as pd\n",
    "import seaborn as sns\n",
    "import matplotlib.pyplot as plt\n",
    "import numpy as np\n",
    "from sklearn.model_selection import train_test_split\n",
    "from sklearn.preprocessing import StandardScaler\n",
    "from sklearn.linear_model import LogisticRegression\n",
    "from sklearn.dummy import DummyClassifier\n",
    "from sklearn.ensemble import RandomForestClassifier\n",
    "from sklearn.metrics import accuracy_score\n",
    "from sklearn.metrics import classification_report\n",
    "import statsmodels.api as sm\n",
    "from imblearn.over_sampling import SMOTE\n",
    "from collections import Counter\n",
    "from yellowbrick.classifier import ROCAUC\n",
    "from yellowbrick.classifier import ConfusionMatrix\n",
    "from yellowbrick.classifier import ClassificationReport\n",
    "pd.set_option('display.max_colwidth', -1)\n",
    "pd.set_option('display.max_columns', None)\n",
    "pd.set_option('display.max_rows', None)\n",
    "np.random.seed(42)"
   ]
  },
  {
   "cell_type": "code",
   "execution_count": 2,
   "metadata": {},
   "outputs": [],
   "source": [
    "df = pd.read_csv('../data/household_national.csv')"
   ]
  },
  {
   "cell_type": "code",
   "execution_count": 3,
   "metadata": {},
   "outputs": [],
   "source": [
    "# columns to keep from df, removing weighted columns, etc.\n",
    "mini_col_list = ['CONTROL', 'TOTROOMS', 'PERPOVLVL', 'COMTYPE', 'COMCOST','DBEVICLK', 'DBEVICNOTE', 'DBEVICTHT', 'DBFORCWHR', 'DBLVEFORC', 'RENT', 'BATHEXCLU', 'DISHWASH', 'SOLAR', 'GARAGE', 'DINING', 'LAUNDY', 'STORIES', 'NOSTEP', 'GUTREHB', 'CONDO', 'SEARCHFAM', 'SEARCHLIST', 'SEARCHNET', 'SEARCHOTH', 'SEARCHPUB', 'SEARCHREA', 'SEARCHSIGN', 'RMCHANGE', 'RMCOMMUTE', 'RMCOSTS', 'RMFAMILY', 'RMHOME', 'RMHOOD', 'RMJOB', 'RMOWNHH', 'RMOTHER', 'HMRACCESS', 'HMRENEFF', 'HMRSALE', 'BIKE', 'WALK', 'TRANAMT', 'COMDAYS', 'DIST', 'POOLAMT', 'RATINGHS', 'RATINGNH', 'NHQPCRIME', 'NHQPUBTRN', 'NHQRISK', 'NHQSCHOOL', 'NHQSCRIME', 'NORC', 'SUBDIV', 'NOWIRE', 'TENURE', 'MHWIDE', 'PLUGS', 'CELLPHONE', 'PORCH', 'LEAKO', 'LEAKI', 'NOTOIL', 'PAINTPEEL', 'HOWBUY', 'OCCJANUR', 'OCCFEBRU', 'OCCMARCH', 'OCCAPRIL', 'OCCMAY', 'OCCJUNE', 'OCCJULY', 'OCCAUGUST', 'OCCSEPTEM', 'OCCOCTOB', 'OCCNOVEM', 'OCCDECEM', 'OCCYRRND', 'LEADINSP', 'MONLSTOCC', 'SUITYRRND', 'TIMESHARE', 'VACRESDAYS', 'VACRNTDAYS', 'PERMNEAR', 'VACPRIRES', 'VACREC', 'VACINVEST', 'VACSELL', 'VACINHER', 'VACOTH', 'OWNLOT', 'RENTCNTRL', 'RENTSUB', 'NEARABAND', 'NEARBARCL', 'NEARTRASH', 'BUS', 'SUBWAY', 'VAN', 'DBMISSMORT', 'DBMISSRENT', 'DBUTBILL', 'DBEVICWHERE', 'INTLANG', 'DIVISION', 'OMB13CBSA', 'WEIGHT', 'SP1WEIGHT', 'SP2WEIGHT', 'INTMODE', 'INTSTATUS', 'INTMONTH', 'BLD', 'ENTRYSYS', 'HHSEX', 'HHMAR', 'HHSPAN', 'HHCITSHP', 'MILHH', 'HHAGE', 'HHMOVE', 'HHINUSYR', 'HHRACE', 'HHRACEAS', 'HHRACEPI', 'HHGRAD', 'HHNATVTY', 'HHENROLL', 'PARTNER', 'HSHLDTYPE', 'SAMEHHLD', 'NUMELDERS', 'NUMADULTS', 'NUMNONREL', 'HHYNGKIDS', 'HHOLDKIDS', 'NUMVETS', 'NUMYNGKIDS', 'NUMOLDKIDS', 'NUMSUBFAM', 'NUMSECFAM', 'NUMPEOPLE', 'HHADLTKIDS', 'GRANDHH', 'MULTIGEN', 'UFINROOMS', 'MHANCHOR', 'LOTSIZE', 'FINROOMS', 'YRBUILT', 'HOA', 'FOUNDTYPE', 'UNITFLOORS', 'UNITSIZE', 'BEDROOMS', 'KITCHENS', 'MONOXIDE', 'WATSOURCE', 'SEWUSERS', 'KITEXCLU', 'FRIDGE', 'KITCHSINK', 'WASHER', 'COOKTYPE', 'COOKFUEL', 'DRYER', 'SEWTYPE', 'BATHROOMS', 'HOTWATER', 'HEATFUEL', 'FIREPLACE', 'ACPRIMARY', 'ACSECNDRY', 'HEATTYPE', 'SUPP1HEAT', 'SUPP2HEAT', 'COLD', 'COLDEQ', 'NOWAT', 'COLDUTIL', 'COLDHTCAP', 'COLDINSUL', 'COLDCOST', 'COLDOTHER', 'LEAKOROOF', 'LEAKOBASE', 'LEAKOWALL', 'LEAKOOTH', 'LEAKIPLUM', 'LEAKIPIPE', 'LEAKIWATH', 'LEAKIOTH', 'LEAKIDK', 'WALLCRACK', 'FLOORHOLE', 'FNDCRUMB', 'ROOFSHIN', 'ROOFHOLE', 'ROOFSAG', 'WALLSIDE', 'WALLSLOPE', 'WINBOARD', 'WINBROKE', 'WINBARS', 'COLDEQFREQ', 'NOWATFREQ', 'NOTOILFREQ', 'MOLDKITCH', 'MOLDBATH', 'MOLDBEDRM', 'MOLDBASEM', 'MOLDLROOM', 'MOLDOTHER', 'RODENT', 'ROACH', 'SEWBREAK', 'FUSEBLOW', 'VACMONTHS', 'DWNPAYPCT', 'MHMOVE', 'ELECAMT', 'GASAMT', 'OILAMT', 'OTHERAMT', 'TRASHAMT', 'WATERAMT', 'UTILAMT', 'REMODJOBS', 'FS', 'HHHEAR', 'HHSEE', 'HHMEMRY', 'HHWALK', 'HHCARE', 'HHERRND', 'NUMHEAR', 'NUMSEE', 'NUMMEMRY', 'NUMWALK', 'NUMCARE', 'NUMERRND', 'DISHH', 'MVG1TYPE', 'MVG2TYPE', 'MVG3TYPE', 'MVG1TEN', 'MVG2TEN', 'MVG3TEN', 'MVG1PER', 'MVG2PER', 'MVG3PER', 'MVG1COST', 'MVG2COST', 'MVG3COST', 'MVG1STAT', 'MVG2STAT', 'MVG3STAT', 'MVG1LOC', 'MVG2LOC', 'MVG3LOC', 'SEARCHSTOP', 'MOVFORCE', 'MOVWHY', 'HRATE', 'NRATE', 'CARPOOL', 'TAXI', 'FERRY', 'DRIVEALL', 'COMPANYCAR', 'DRIVEPART', 'PARKING', 'TOLL', 'SUBSIDY', 'DPALTCOM', 'DPGENERT', 'DPDRFOOD', 'DPEMWATER', 'DPEVFIN', 'DPEVINFO', 'DPEVKIT', 'DPEVLOC', 'DPEVVEHIC', 'DPGETINFO', 'DPSHELTR', 'DPEVSEP', 'DPEVACPETS', 'DPFLDINS', 'DPMAJDIS', 'MGRONSITE', 'ADEQUACY', 'POVLVLINC', 'HUDSUB', 'UPKEEP', 'SPLITSAMP', 'VACANCY','FIRSTHOME', 'MARKETVAL', 'TOTBALAMT', 'PROTAXAMT', 'INSURAMT', 'HOAAMT', 'LOTAMT', 'MAINTAMT', 'MORTAMT', 'HINCP', 'FINCP', 'REMODAMT', 'TOTHCAMT']"
   ]
  },
  {
   "cell_type": "code",
   "execution_count": 4,
   "metadata": {},
   "outputs": [],
   "source": [
    "# saving only the pertinent columns\n",
    "clean_df = df[mini_col_list]"
   ]
  },
  {
   "cell_type": "code",
   "execution_count": 5,
   "metadata": {},
   "outputs": [
    {
     "name": "stderr",
     "output_type": "stream",
     "text": [
      "/Users/flatironschool/anaconda3/lib/python3.7/site-packages/ipykernel_launcher.py:3: SettingWithCopyWarning: \n",
      "A value is trying to be set on a copy of a slice from a DataFrame.\n",
      "Try using .loc[row_indexer,col_indexer] = value instead\n",
      "\n",
      "See the caveats in the documentation: http://pandas.pydata.org/pandas-docs/stable/indexing.html#indexing-view-versus-copy\n",
      "  This is separate from the ipykernel package so we can avoid doing imports until\n"
     ]
    }
   ],
   "source": [
    "# removing quotation marks from df\n",
    "for column in clean_df.columns:\n",
    "    clean_df[column] = clean_df[column].astype(str).str.replace(\"'\",\"\")"
   ]
  },
  {
   "cell_type": "code",
   "execution_count": 6,
   "metadata": {},
   "outputs": [],
   "source": [
    "# converting all values to numeric values\n",
    "clean_df = clean_df.apply(pd.to_numeric, errors='ignore')"
   ]
  },
  {
   "cell_type": "code",
   "execution_count": 7,
   "metadata": {},
   "outputs": [],
   "source": [
    "# recreate ADEQUACY column to make it binary\n",
    "clean_df['ADEQUACY_BIN'] = clean_df.ADEQUACY.map(lambda x: 0 if x>1 else 1)"
   ]
  },
  {
   "cell_type": "code",
   "execution_count": 8,
   "metadata": {},
   "outputs": [],
   "source": [
    "clean_df.to_csv('../data/ahs.csv')"
   ]
  },
  {
   "cell_type": "code",
   "execution_count": 9,
   "metadata": {},
   "outputs": [],
   "source": [
    "X = clean_df.drop(['ADEQUACY', 'ADEQUACY_BIN'], axis=1)\n",
    "y = clean_df.ADEQUACY_BIN\n",
    "\n",
    "X_train_0, X_test_0, y_train_0, y_test_0 = train_test_split(X, y, test_size=0.2, random_state=42, stratify=y)"
   ]
  },
  {
   "cell_type": "code",
   "execution_count": 10,
   "metadata": {},
   "outputs": [
    {
     "data": {
      "text/plain": [
       "(66752,)"
      ]
     },
     "execution_count": 10,
     "metadata": {},
     "output_type": "execute_result"
    }
   ],
   "source": [
    "X_labels = list(X.columns)\n",
    "y.shape"
   ]
  },
  {
   "cell_type": "code",
   "execution_count": 11,
   "metadata": {},
   "outputs": [
    {
     "data": {
      "text/plain": [
       "0.9316156093176541"
      ]
     },
     "execution_count": 11,
     "metadata": {},
     "output_type": "execute_result"
    }
   ],
   "source": [
    "# always predicts the most frequent label in the training set\n",
    "dummy0 = DummyClassifier(strategy='most_frequent').fit(X_train_0, y_train_0)\n",
    "dummy0.fit(X_train_0, y_train_0)\n",
    "dummy0.score(X_test_0, y_test_0)"
   ]
  },
  {
   "cell_type": "code",
   "execution_count": 12,
   "metadata": {},
   "outputs": [
    {
     "name": "stderr",
     "output_type": "stream",
     "text": [
      "/Users/flatironschool/anaconda3/lib/python3.7/site-packages/sklearn/base.py:197: FutureWarning: From version 0.24, get_params will raise an AttributeError if a parameter cannot be retrieved as an instance attribute. Previously it would return None.\n",
      "  FutureWarning)\n",
      "/Users/flatironschool/anaconda3/lib/python3.7/site-packages/yellowbrick/classifier/base.py:232: YellowbrickWarning: could not determine class_counts_ from previously fitted classifier\n",
      "  YellowbrickWarning,\n"
     ]
    },
    {
     "data": {
      "image/png": "[encoded data removed]",
      "text/plain": [
       "<Figure size 432x288 with 1 Axes>"
      ]
     },
     "metadata": {
      "needs_background": "light"
     },
     "output_type": "display_data"
    }
   ],
   "source": [
    "cm = ConfusionMatrix(dummy0);\n",
    "cm.score(X_test_0, y_test_0);\n",
    "cm.poof();"
   ]
  },
  {
   "cell_type": "code",
   "execution_count": 13,
   "metadata": {},
   "outputs": [
    {
     "name": "stdout",
     "output_type": "stream",
     "text": [
      "Resampled dataset shape Counter({1: 62185, 0: 62185})\n"
     ]
    }
   ],
   "source": [
    "smote = SMOTE(random_state=42)\n",
    "X_res, y_res = smote.fit_resample(X, y)\n",
    "print('Resampled dataset shape %s' % Counter(y_res))"
   ]
  },
  {
   "cell_type": "code",
   "execution_count": 14,
   "metadata": {},
   "outputs": [],
   "source": [
    "X_train, X_test, y_train, y_test = train_test_split(X_res, y_res, test_size=0.2, random_state=42, stratify=y_res)"
   ]
  },
  {
   "cell_type": "code",
   "execution_count": 15,
   "metadata": {},
   "outputs": [],
   "source": [
    "scaler = StandardScaler()\n",
    "scaled_X_train = scaler.fit_transform(X_train)\n",
    "scaled_X_test = scaler.transform(X_test)"
   ]
  },
  {
   "cell_type": "code",
   "execution_count": 16,
   "metadata": {},
   "outputs": [],
   "source": [
    "# clf = LogisticRegression(penalty='l1', random_state=42, solver='saga', max_iter=1000).fit(X_train, y_train)\n",
    "# clf.predict(X_test)\n",
    "# clf.predict_proba(X_test)\n",
    "# clf.score(X_test, y_test)"
   ]
  },
  {
   "cell_type": "code",
   "execution_count": 17,
   "metadata": {},
   "outputs": [],
   "source": [
    "# X = sm.add_constant(X)\n",
    "# logit_model = sm.Logit(y, X)\n",
    "# result = logit_model.fit_regularized(method='l1')\n",
    "# result.summary()"
   ]
  },
  {
   "cell_type": "code",
   "execution_count": 18,
   "metadata": {},
   "outputs": [
    {
     "data": {
      "text/plain": [
       "RandomForestClassifier(bootstrap=True, ccp_alpha=0.0, class_weight=None,\n",
       "                       criterion='gini', max_depth=None, max_features='auto',\n",
       "                       max_leaf_nodes=None, max_samples=None,\n",
       "                       min_impurity_decrease=0.0, min_impurity_split=None,\n",
       "                       min_samples_leaf=1, min_samples_split=2,\n",
       "                       min_weight_fraction_leaf=0.0, n_estimators=100,\n",
       "                       n_jobs=None, oob_score=False, random_state=42, verbose=0,\n",
       "                       warm_start=False)"
      ]
     },
     "execution_count": 18,
     "metadata": {},
     "output_type": "execute_result"
    }
   ],
   "source": [
    "clf_rf = RandomForestClassifier(random_state=42)\n",
    "clf_rf.fit(X_train, y_train)"
   ]
  },
  {
   "cell_type": "code",
   "execution_count": 19,
   "metadata": {},
   "outputs": [
    {
     "data": {
      "text/html": [
       "<div>\n",
       "<style scoped>\n",
       "    .dataframe tbody tr th:only-of-type {\n",
       "        vertical-align: middle;\n",
       "    }\n",
       "\n",
       "    .dataframe tbody tr th {\n",
       "        vertical-align: top;\n",
       "    }\n",
       "\n",
       "    .dataframe thead th {\n",
       "        text-align: right;\n",
       "    }\n",
       "</style>\n",
       "<table border=\"1\" class=\"dataframe\">\n",
       "  <thead>\n",
       "    <tr style=\"text-align: right;\">\n",
       "      <th></th>\n",
       "      <th>importance</th>\n",
       "    </tr>\n",
       "  </thead>\n",
       "  <tbody>\n",
       "    <tr>\n",
       "      <th>WALLCRACK</th>\n",
       "      <td>0.063272</td>\n",
       "    </tr>\n",
       "    <tr>\n",
       "      <th>RODENT</th>\n",
       "      <td>0.042264</td>\n",
       "    </tr>\n",
       "    <tr>\n",
       "      <th>LEAKI</th>\n",
       "      <td>0.033583</td>\n",
       "    </tr>\n",
       "    <tr>\n",
       "      <th>LEAKO</th>\n",
       "      <td>0.031328</td>\n",
       "    </tr>\n",
       "    <tr>\n",
       "      <th>KITEXCLU</th>\n",
       "      <td>0.029099</td>\n",
       "    </tr>\n",
       "  </tbody>\n",
       "</table>\n",
       "</div>"
      ],
      "text/plain": [
       "           importance\n",
       "WALLCRACK  0.063272  \n",
       "RODENT     0.042264  \n",
       "LEAKI      0.033583  \n",
       "LEAKO      0.031328  \n",
       "KITEXCLU   0.029099  "
      ]
     },
     "execution_count": 19,
     "metadata": {},
     "output_type": "execute_result"
    }
   ],
   "source": [
    "feats = {}\n",
    "for feature, importance in zip(X_labels, clf_rf.feature_importances_):\n",
    "    feats[feature] = importance\n",
    "\n",
    "importances = pd.DataFrame.from_dict(feats, orient='index').rename(columns={0: 'importance'})\n",
    "importances.sort_values(by='importance', inplace=True, ascending=False)\n",
    "importances.head()"
   ]
  },
  {
   "cell_type": "code",
   "execution_count": 20,
   "metadata": {},
   "outputs": [
    {
     "name": "stdout",
     "output_type": "stream",
     "text": [
      "              precision    recall  f1-score   support\n",
      "\n",
      "           0       1.00      1.00      1.00     49748\n",
      "           1       1.00      1.00      1.00     49748\n",
      "\n",
      "    accuracy                           1.00     99496\n",
      "   macro avg       1.00      1.00      1.00     99496\n",
      "weighted avg       1.00      1.00      1.00     99496\n",
      "\n"
     ]
    }
   ],
   "source": [
    "y_train_hat = clf_rf.predict(X_train)\n",
    "print(classification_report(y_train, y_train_hat))"
   ]
  },
  {
   "cell_type": "code",
   "execution_count": 21,
   "metadata": {},
   "outputs": [
    {
     "data": {
      "text/plain": [
       "0.9915976521669213"
      ]
     },
     "execution_count": 21,
     "metadata": {},
     "output_type": "execute_result"
    }
   ],
   "source": [
    "y_test_hat = clf_rf.predict(X_test)\n",
    "clf_rf.score(X_test, y_test)"
   ]
  },
  {
   "cell_type": "code",
   "execution_count": 22,
   "metadata": {},
   "outputs": [
    {
     "name": "stderr",
     "output_type": "stream",
     "text": [
      "/Users/flatironschool/anaconda3/lib/python3.7/site-packages/sklearn/base.py:197: FutureWarning: From version 0.24, get_params will raise an AttributeError if a parameter cannot be retrieved as an instance attribute. Previously it would return None.\n",
      "  FutureWarning)\n",
      "/Users/flatironschool/anaconda3/lib/python3.7/site-packages/yellowbrick/classifier/base.py:232: YellowbrickWarning: could not determine class_counts_ from previously fitted classifier\n",
      "  YellowbrickWarning,\n"
     ]
    },
    {
     "data": {
      "image/png": "[encoded data removed]",
      "text/plain": [
       "<Figure size 432x288 with 1 Axes>"
      ]
     },
     "metadata": {
      "needs_background": "light"
     },
     "output_type": "display_data"
    }
   ],
   "source": [
    "cm = ConfusionMatrix(clf_rf);\n",
    "cm.score(X_test, y_test);\n",
    "cm.poof();"
   ]
  },
  {
   "cell_type": "code",
   "execution_count": 24,
   "metadata": {},
   "outputs": [
    {
     "name": "stdout",
     "output_type": "stream",
     "text": [
      "              precision    recall  f1-score   support\n",
      "\n",
      "           0       1.00      0.99      0.99     12437\n",
      "           1       0.99      1.00      0.99     12437\n",
      "\n",
      "    accuracy                           0.99     24874\n",
      "   macro avg       0.99      0.99      0.99     24874\n",
      "weighted avg       0.99      0.99      0.99     24874\n",
      "\n"
     ]
    }
   ],
   "source": [
    "print(classification_report(y_test, y_test_hat))"
   ]
  },
  {
   "cell_type": "code",
   "execution_count": null,
   "metadata": {},
   "outputs": [],
   "source": []
  }
 ],
 "metadata": {
  "kernelspec": {
   "display_name": "Python 3",
   "language": "python",
   "name": "python3"
  },
  "language_info": {
   "codemirror_mode": {
    "name": "ipython",
    "version": 3
   },
   "file_extension": ".py",
   "mimetype": "text/x-python",
   "name": "python",
   "nbconvert_exporter": "python",
   "pygments_lexer": "ipython3",
   "version": "3.7.3"
  }
 },
 "nbformat": 4,
 "nbformat_minor": 2
}
