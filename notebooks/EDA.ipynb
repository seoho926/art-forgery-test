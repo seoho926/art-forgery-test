{
 "cells": [
  {
   "cell_type": "code",
   "execution_count": 1,
   "metadata": {},
   "outputs": [
    {
     "name": "stderr",
     "output_type": "stream",
     "text": [
      "/Users/seohohahm/anaconda3/lib/python3.7/site-packages/sklearn/utils/deprecation.py:144: FutureWarning: The sklearn.metrics.classification module is  deprecated in version 0.22 and will be removed in version 0.24. The corresponding classes / functions should instead be imported from sklearn.metrics. Anything that cannot be imported from sklearn.metrics is now part of the private API.\n",
      "  warnings.warn(message, FutureWarning)\n"
     ]
    }
   ],
   "source": [
    "import pandas as pd\n",
    "import seaborn as sns\n",
    "import matplotlib.pyplot as plt\n",
    "import numpy as np\n",
    "from sklearn.model_selection import train_test_split\n",
    "from sklearn.preprocessing import StandardScaler\n",
    "from sklearn.linear_model import LogisticRegression\n",
    "from sklearn.dummy import DummyClassifier\n",
    "from sklearn.ensemble import RandomForestClassifier\n",
    "from sklearn.metrics import accuracy_score\n",
    "from sklearn.metrics import classification_report\n",
    "import statsmodels.api as sm\n",
    "from imblearn.over_sampling import SMOTE\n",
    "from collections import Counter\n",
    "from yellowbrick.classifier import ROCAUC\n",
    "from yellowbrick.classifier import ConfusionMatrix\n",
    "from yellowbrick.classifier import ClassificationReport\n",
    "pd.set_option('display.max_colwidth', -1)\n",
    "pd.set_option('display.max_columns', None)\n",
    "pd.set_option('display.max_rows', None)\n",
    "np.random.seed(42)"
   ]
  },
  {
   "cell_type": "code",
   "execution_count": 2,
   "metadata": {},
   "outputs": [],
   "source": [
    "df = pd.read_csv('../data/household_national.csv')"
   ]
  },
  {
   "cell_type": "code",
   "execution_count": 3,
   "metadata": {},
   "outputs": [],
   "source": [
    "# columns to keep from df, removing weighted columns, etc.\n",
    "mini_col_list = ['CONTROL', 'TOTROOMS', 'PERPOVLVL', 'COMTYPE', 'COMCOST','DBEVICLK', 'DBEVICNOTE', 'DBEVICTHT', 'DBFORCWHR', 'DBLVEFORC', 'RENT', 'BATHEXCLU', 'DISHWASH', 'SOLAR', 'GARAGE', 'DINING', 'LAUNDY', 'STORIES', 'NOSTEP', 'GUTREHB', 'CONDO', 'SEARCHFAM', 'SEARCHLIST', 'SEARCHNET', 'SEARCHOTH', 'SEARCHPUB', 'SEARCHREA', 'SEARCHSIGN', 'RMCHANGE', 'RMCOMMUTE', 'RMCOSTS', 'RMFAMILY', 'RMHOME', 'RMHOOD', 'RMJOB', 'RMOWNHH', 'RMOTHER', 'HMRACCESS', 'HMRENEFF', 'HMRSALE', 'BIKE', 'WALK', 'TRANAMT', 'COMDAYS', 'DIST', 'POOLAMT', 'RATINGHS', 'RATINGNH', 'NHQPCRIME', 'NHQPUBTRN', 'NHQRISK', 'NHQSCHOOL', 'NHQSCRIME', 'NORC', 'SUBDIV', 'NOWIRE', 'TENURE', 'MHWIDE', 'PLUGS', 'CELLPHONE', 'PORCH', 'LEAKO', 'LEAKI', 'NOTOIL', 'PAINTPEEL', 'HOWBUY', 'OCCJANUR', 'OCCFEBRU', 'OCCMARCH', 'OCCAPRIL', 'OCCMAY', 'OCCJUNE', 'OCCJULY', 'OCCAUGUST', 'OCCSEPTEM', 'OCCOCTOB', 'OCCNOVEM', 'OCCDECEM', 'OCCYRRND', 'LEADINSP', 'MONLSTOCC', 'SUITYRRND', 'TIMESHARE', 'VACRESDAYS', 'VACRNTDAYS', 'PERMNEAR', 'VACPRIRES', 'VACREC', 'VACINVEST', 'VACSELL', 'VACINHER', 'VACOTH', 'OWNLOT', 'RENTCNTRL', 'RENTSUB', 'NEARABAND', 'NEARBARCL', 'NEARTRASH', 'BUS', 'SUBWAY', 'VAN', 'DBMISSMORT', 'DBMISSRENT', 'DBUTBILL', 'DBEVICWHERE', 'INTLANG', 'DIVISION', 'OMB13CBSA', 'WEIGHT', 'SP1WEIGHT', 'SP2WEIGHT', 'INTMODE', 'INTSTATUS', 'INTMONTH', 'BLD', 'ENTRYSYS', 'HHSEX', 'HHMAR', 'HHSPAN', 'HHCITSHP', 'MILHH', 'HHAGE', 'HHMOVE', 'HHINUSYR', 'HHRACE', 'HHRACEAS', 'HHRACEPI', 'HHGRAD', 'HHNATVTY', 'HHENROLL', 'PARTNER', 'HSHLDTYPE', 'SAMEHHLD', 'NUMELDERS', 'NUMADULTS', 'NUMNONREL', 'HHYNGKIDS', 'HHOLDKIDS', 'NUMVETS', 'NUMYNGKIDS', 'NUMOLDKIDS', 'NUMSUBFAM', 'NUMSECFAM', 'NUMPEOPLE', 'HHADLTKIDS', 'GRANDHH', 'MULTIGEN', 'UFINROOMS', 'MHANCHOR', 'LOTSIZE', 'FINROOMS', 'YRBUILT', 'HOA', 'FOUNDTYPE', 'UNITFLOORS', 'UNITSIZE', 'BEDROOMS', 'KITCHENS', 'MONOXIDE', 'WATSOURCE', 'SEWUSERS', 'KITEXCLU', 'FRIDGE', 'KITCHSINK', 'WASHER', 'COOKTYPE', 'COOKFUEL', 'DRYER', 'SEWTYPE', 'BATHROOMS', 'HOTWATER', 'HEATFUEL', 'FIREPLACE', 'ACPRIMARY', 'ACSECNDRY', 'HEATTYPE', 'SUPP1HEAT', 'SUPP2HEAT', 'COLD', 'COLDEQ', 'NOWAT', 'COLDUTIL', 'COLDHTCAP', 'COLDINSUL', 'COLDCOST', 'COLDOTHER', 'LEAKOROOF', 'LEAKOBASE', 'LEAKOWALL', 'LEAKOOTH', 'LEAKIPLUM', 'LEAKIPIPE', 'LEAKIWATH', 'LEAKIOTH', 'LEAKIDK', 'WALLCRACK', 'FLOORHOLE', 'FNDCRUMB', 'ROOFSHIN', 'ROOFHOLE', 'ROOFSAG', 'WALLSIDE', 'WALLSLOPE', 'WINBOARD', 'WINBROKE', 'WINBARS', 'COLDEQFREQ', 'NOWATFREQ', 'NOTOILFREQ', 'MOLDKITCH', 'MOLDBATH', 'MOLDBEDRM', 'MOLDBASEM', 'MOLDLROOM', 'MOLDOTHER', 'RODENT', 'ROACH', 'SEWBREAK', 'FUSEBLOW', 'VACMONTHS', 'DWNPAYPCT', 'MHMOVE', 'ELECAMT', 'GASAMT', 'OILAMT', 'OTHERAMT', 'TRASHAMT', 'WATERAMT', 'UTILAMT', 'REMODJOBS', 'FS', 'HHHEAR', 'HHSEE', 'HHMEMRY', 'HHWALK', 'HHCARE', 'HHERRND', 'NUMHEAR', 'NUMSEE', 'NUMMEMRY', 'NUMWALK', 'NUMCARE', 'NUMERRND', 'DISHH', 'MVG1TYPE', 'MVG2TYPE', 'MVG3TYPE', 'MVG1TEN', 'MVG2TEN', 'MVG3TEN', 'MVG1PER', 'MVG2PER', 'MVG3PER', 'MVG1COST', 'MVG2COST', 'MVG3COST', 'MVG1STAT', 'MVG2STAT', 'MVG3STAT', 'MVG1LOC', 'MVG2LOC', 'MVG3LOC', 'SEARCHSTOP', 'MOVFORCE', 'MOVWHY', 'HRATE', 'NRATE', 'CARPOOL', 'TAXI', 'FERRY', 'DRIVEALL', 'COMPANYCAR', 'DRIVEPART', 'PARKING', 'TOLL', 'SUBSIDY', 'DPALTCOM', 'DPGENERT', 'DPDRFOOD', 'DPEMWATER', 'DPEVFIN', 'DPEVINFO', 'DPEVKIT', 'DPEVLOC', 'DPEVVEHIC', 'DPGETINFO', 'DPSHELTR', 'DPEVSEP', 'DPEVACPETS', 'DPFLDINS', 'DPMAJDIS', 'MGRONSITE', 'ADEQUACY', 'POVLVLINC', 'HUDSUB', 'UPKEEP', 'SPLITSAMP', 'VACANCY','FIRSTHOME', 'MARKETVAL', 'TOTBALAMT', 'PROTAXAMT', 'INSURAMT', 'HOAAMT', 'LOTAMT', 'MAINTAMT', 'MORTAMT', 'HINCP', 'FINCP', 'REMODAMT', 'TOTHCAMT']"
   ]
  },
  {
   "cell_type": "code",
   "execution_count": 4,
   "metadata": {},
   "outputs": [],
   "source": [
    "# saving only the pertinent columns\n",
    "clean_df = df[mini_col_list]"
   ]
  },
  {
   "cell_type": "code",
   "execution_count": 5,
   "metadata": {},
   "outputs": [
    {
     "name": "stderr",
     "output_type": "stream",
     "text": [
      "/Users/seohohahm/anaconda3/lib/python3.7/site-packages/ipykernel_launcher.py:3: SettingWithCopyWarning: \n",
      "A value is trying to be set on a copy of a slice from a DataFrame.\n",
      "Try using .loc[row_indexer,col_indexer] = value instead\n",
      "\n",
      "See the caveats in the documentation: http://pandas.pydata.org/pandas-docs/stable/user_guide/indexing.html#returning-a-view-versus-a-copy\n",
      "  This is separate from the ipykernel package so we can avoid doing imports until\n"
     ]
    }
   ],
   "source": [
    "# removing quotation marks from df\n",
    "for column in clean_df.columns:\n",
    "    clean_df[column] = clean_df[column].astype(str).str.replace(\"'\",\"\")"
   ]
  },
  {
   "cell_type": "code",
   "execution_count": 6,
   "metadata": {},
   "outputs": [],
   "source": [
    "# converting all values to numeric values\n",
    "clean_df = clean_df.apply(pd.to_numeric, errors='ignore')"
   ]
  },
  {
   "cell_type": "code",
   "execution_count": 7,
   "metadata": {},
   "outputs": [],
   "source": [
    "# recreate ADEQUACY column to make it binary\n",
    "clean_df['ADEQUACY_BIN'] = clean_df.ADEQUACY.map(lambda x: 0 if x>1 else 1)"
   ]
  },
  {
   "cell_type": "code",
   "execution_count": 8,
   "metadata": {},
   "outputs": [],
   "source": [
    "nh_cols = ['SUBDIV',\n",
    " 'NORC',\n",
    " 'NEARBARCL',\n",
    " 'NEARABAND',\n",
    " 'NEARTRASH',\n",
    " 'RATINGHS',\n",
    " 'RATINGNH',\n",
    " 'NHQSCHOOL',\n",
    " 'NHQPCRIME',\n",
    " 'NHQSCRIME',\n",
    " 'NHQPUBTRN',\n",
    " 'NHQRISK', 'ADEQUACY_BIN']"
   ]
  },
  {
   "cell_type": "code",
   "execution_count": 9,
   "metadata": {},
   "outputs": [],
   "source": [
    "clean_df = clean_df[nh_cols]"
   ]
  },
  {
   "cell_type": "code",
   "execution_count": 10,
   "metadata": {},
   "outputs": [],
   "source": [
    "clean_df.to_csv('../data/ahs.csv', index=False)"
   ]
  },
  {
   "cell_type": "code",
   "execution_count": 12,
   "metadata": {},
   "outputs": [],
   "source": [
    "X = clean_df.drop(['ADEQUACY_BIN'], axis=1)\n",
    "y = clean_df.ADEQUACY_BIN\n",
    "\n",
    "X_train_0, X_test_0, y_train_0, y_test_0 = train_test_split(X, y, test_size=0.2, random_state=42, stratify=y)"
   ]
  },
  {
   "cell_type": "code",
   "execution_count": null,
   "metadata": {},
   "outputs": [],
   "source": [
    "X_labels = list(X.columns)\n",
    "y.shape"
   ]
  },
  {
   "cell_type": "code",
   "execution_count": null,
   "metadata": {},
   "outputs": [],
   "source": [
    "# always predicts the most frequent label in the training set\n",
    "dummy0 = DummyClassifier(strategy='most_frequent').fit(X_train_0, y_train_0)\n",
    "dummy0.fit(X_train_0, y_train_0)\n",
    "dummy0.score(X_test_0, y_test_0)"
   ]
  },
  {
   "cell_type": "code",
   "execution_count": null,
   "metadata": {},
   "outputs": [],
   "source": [
    "cm = ConfusionMatrix(dummy0);\n",
    "cm.score(X_test_0, y_test_0);\n",
    "cm.poof();"
   ]
  },
  {
   "cell_type": "code",
   "execution_count": null,
   "metadata": {},
   "outputs": [],
   "source": [
    "smote = SMOTE(random_state=42)\n",
    "X_res, y_res = smote.fit_resample(X, y)\n",
    "print('Resampled dataset shape %s' % Counter(y_res))"
   ]
  },
  {
   "cell_type": "code",
   "execution_count": null,
   "metadata": {},
   "outputs": [],
   "source": [
    "X_train, X_test, y_train, y_test = train_test_split(X_res, y_res, test_size=0.2, random_state=42, stratify=y_res)"
   ]
  },
  {
   "cell_type": "code",
   "execution_count": null,
   "metadata": {},
   "outputs": [],
   "source": [
    "scaler = StandardScaler()\n",
    "scaled_X_train = scaler.fit_transform(X_train)\n",
    "scaled_X_test = scaler.transform(X_test)"
   ]
  },
  {
   "cell_type": "code",
   "execution_count": null,
   "metadata": {},
   "outputs": [],
   "source": [
    "# clf = LogisticRegression(penalty='l1', random_state=42, solver='saga', max_iter=1000).fit(X_train, y_train)\n",
    "# clf.predict(X_test)\n",
    "# clf.predict_proba(X_test)\n",
    "# clf.score(X_test, y_test)"
   ]
  },
  {
   "cell_type": "code",
   "execution_count": null,
   "metadata": {},
   "outputs": [],
   "source": [
    "# X = sm.add_constant(X)\n",
    "# logit_model = sm.Logit(y, X)\n",
    "# result = logit_model.fit_regularized(method='l1')\n",
    "# result.summary()"
   ]
  },
  {
   "cell_type": "code",
   "execution_count": null,
   "metadata": {},
   "outputs": [],
   "source": [
    "clf_rf = RandomForestClassifier(random_state=42)\n",
    "clf_rf.fit(X_train, y_train)\n",
    "\n",
    "rf_est_list = [estimator.get_depth() for estimator in clf_rf.estimators_]"
   ]
  },
  {
   "cell_type": "code",
   "execution_count": null,
   "metadata": {},
   "outputs": [],
   "source": [
    "rf_est_list = np.array(rf_est_list)"
   ]
  },
  {
   "cell_type": "code",
   "execution_count": null,
   "metadata": {},
   "outputs": [],
   "source": [
    "print(rf_est_list.mean(), rf_est_list.min(), rf_est_list.max(), rf_est_list.shape)"
   ]
  },
  {
   "cell_type": "code",
   "execution_count": null,
   "metadata": {},
   "outputs": [],
   "source": [
    "feats = {}\n",
    "for feature, importance in zip(X_labels, clf_rf.feature_importances_):\n",
    "    feats[feature] = importance\n",
    "\n",
    "importances = pd.DataFrame.from_dict(feats, orient='index').rename(columns={0: 'importance'})\n",
    "importances.sort_values(by='importance', inplace=True, ascending=False)\n",
    "importances.head(20)"
   ]
  },
  {
   "cell_type": "code",
   "execution_count": null,
   "metadata": {},
   "outputs": [],
   "source": [
    "y_train_hat = clf_rf.predict(X_train)\n",
    "print(classification_report(y_train, y_train_hat))"
   ]
  },
  {
   "cell_type": "code",
   "execution_count": null,
   "metadata": {},
   "outputs": [],
   "source": [
    "y_test_hat = clf_rf.predict(X_test)\n",
    "clf_rf.score(X_test, y_test)"
   ]
  },
  {
   "cell_type": "code",
   "execution_count": null,
   "metadata": {},
   "outputs": [],
   "source": [
    "cm = ConfusionMatrix(clf_rf);\n",
    "cm.score(X_test, y_test);\n",
    "cm.poof();"
   ]
  },
  {
   "cell_type": "code",
   "execution_count": null,
   "metadata": {},
   "outputs": [],
   "source": [
    "print(classification_report(y_test, y_test_hat))"
   ]
  },
  {
   "cell_type": "code",
   "execution_count": null,
   "metadata": {},
   "outputs": [],
   "source": []
  }
 ],
 "metadata": {
  "kernelspec": {
   "display_name": "Python 3",
   "language": "python",
   "name": "python3"
  },
  "language_info": {
   "codemirror_mode": {
    "name": "ipython",
    "version": 3
   },
   "file_extension": ".py",
   "mimetype": "text/x-python",
   "name": "python",
   "nbconvert_exporter": "python",
   "pygments_lexer": "ipython3",
   "version": "3.7.3"
  }
 },
 "nbformat": 4,
 "nbformat_minor": 4
}
